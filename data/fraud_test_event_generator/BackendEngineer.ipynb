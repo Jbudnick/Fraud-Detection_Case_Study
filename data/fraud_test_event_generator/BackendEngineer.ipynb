{
 "cells": [
  {
   "cell_type": "code",
   "execution_count": 1,
   "metadata": {},
   "outputs": [],
   "source": [
    "import pickle\n",
    "import json\n",
    "from Happendazzler import Happendazzler "
   ]
  },
  {
   "cell_type": "code",
   "execution_count": 47,
   "metadata": {},
   "outputs": [],
   "source": [
    "event_generator=pickle.load(open('ebr.p', 'rb'))"
   ]
  },
  {
   "cell_type": "code",
   "execution_count": 53,
   "metadata": {},
   "outputs": [
    {
     "data": {
      "text/plain": [
       "'{\"body_length\": 319, \"channels\": 12, \"country\": \"CA\", \"currency\": \"CAD\", \"delivery_method\": 0.0, \"description\": \"<div><font size=\\\\\"2\\\\\" face=\\\\\"Arial\\\\\">ArtsConnect\\'s PechaKucha Night Coquitlam - Special Edition</font></div>\\\\r\\\\n<p>This event has been cancelled.</p>\\\\r\\\\n<div><font size=\\\\\"2\\\\\" face=\\\\\"Arial\\\\\"><br /></font></div>\\\\r\\\\n<div><font size=\\\\\"2\\\\\" face=\\\\\"Arial\\\\\">*PechaKucha Night is devised and shared by Klein Dytham Architecture<br /></font></div>\", \"email_domain\": \"artsconnect.ca\", \"event_created\": 1332176606, \"event_end\": 1339043400, \"event_published\": 1332177151.0, \"event_start\": 1339036200, \"fb_published\": 0, \"has_analytics\": 0, \"has_header\": 0.0, \"has_logo\": 1, \"listed\": \"y\", \"name\": \"PechaKucha Night Coquitlam Volume 7\", \"name_length\": 35, \"object_id\": 3172573, \"org_desc\": \"<p>ArtsConnect Tri-Cities Arts Council is a non-profit society serving Coquitlam, Port Coquitlam, Port Moody, Anmore and Belcarra. We believe the arts play a crucial role in creating a culturally vibrant region and so we help make arts and culture an accessible part of everyday life.</p>\", \"org_facebook\": 13.0, \"org_name\": \"ArtsConnect\", \"org_twitter\": 14.0, \"payee_name\": \"\", \"payout_type\": \"ACH\", \"previous_payouts\": [{\"name\": \"\", \"created\": \"2011-03-29 01:22:56\", \"country\": \"CA\", \"amount\": 126.15, \"state\": \"\", \"address\": \"\", \"uid\": 6521913, \"event\": 1390083, \"zip_code\": \"\"}, {\"name\": \"\", \"created\": \"2011-10-30 01:11:16\", \"country\": \"CA\", \"amount\": 2337.51, \"state\": \"\", \"address\": \"\", \"uid\": 6521913, \"event\": 2154500, \"zip_code\": \"\"}], \"sale_duration\": 79.0, \"show_map\": 1, \"ticket_types\": [{\"event_id\": 3172573, \"cost\": 12.0, \"availability\": 1, \"quantity_total\": 75}], \"user_age\": 545, \"user_created\": 1285134590, \"user_type\": 3, \"venue_address\": \"100 Newport Drive\", \"venue_country\": \"CA\", \"venue_latitude\": 49.2825546, \"venue_longitude\": -122.8298603, \"venue_name\": \"Inlet Theatre\", \"venue_state\": \"British Columbia\"}'"
      ]
     },
     "execution_count": 53,
     "metadata": {},
     "output_type": "execute_result"
    }
   ],
   "source": [
    "# return the most recent event -- new event roughly every minute, drawn with replacements from test database \n",
    "\n",
    "event_generator.event()"
   ]
  },
  {
   "cell_type": "code",
   "execution_count": 52,
   "metadata": {},
   "outputs": [
    {
     "data": {
      "text/plain": [
       "{'body_length': 1552,\n",
       " 'channels': 11,\n",
       " 'country': 'US',\n",
       " 'currency': 'USD',\n",
       " 'delivery_method': 0.0,\n",
       " 'description': \"<p>Come enjoy a wonderful full Dinner, Silent Auction and hear about our upcoming October 2012 China Trip!</p>\\r\\n<p>Dr. Laurie Armsby (Pediatric Cardiologist at Doernbecher Children's Hospital) and Joy Dreschler (Executive Director for Associated Services for International Adoption) will tug at at your heart strings with stories of young children needing care and how they will receive it through this October's Medical Trip (October 18-26, 2012) to Little Flower Foster Home in Beijing, China. You can also bid on amazing Silent Auctuon packages that include artwork, handmade crafts and more!</p>\\r\\n<p>UPDATE: We have just announced a MAJOR 2-Day Cardiology Conference in Beijing (October 20-21) which will include&nbsp;physicians from all over China, stretch over 2 days and headline Dr. Laurie Armsby who will discuss fixes available in the US which are currently deemed inoperable in China, including Single Ventricle Congenital Heart Disease. This conference will be paired with the team's volunteer work which will include free assessment, diagnosis and care for orphaned children residing at Little Flower Foster Home.</p>\\r\\n<p>This is an amazing opportunity to impact a real project. ALL proceeds go directly to run this trip and pay no administrative costs whatsoever.</p>\\r\\n<p>Businesses are encouraged to become a Table Sponsor. This Major Sponsorship of $500 includes a full table for 8 and a Logo in the program. Current sponsors include Technical Imaging Systems, Benefits Group LLC, Northwest Sign Solutions.</p>\\r\\n<p>Please join us!!!</p>\",\n",
       " 'email_domain': 'littleheartsmedical.org',\n",
       " 'event_created': 1345468567,\n",
       " 'event_end': 1348369200,\n",
       " 'event_published': 1345469725.0,\n",
       " 'event_start': 1348358400,\n",
       " 'fb_published': 0,\n",
       " 'has_analytics': 0,\n",
       " 'has_header': None,\n",
       " 'has_logo': 1,\n",
       " 'listed': 'y',\n",
       " 'name': 'Little Hearts, Big Dreams Benefit Dinner & Silent Auction',\n",
       " 'name_length': 57,\n",
       " 'object_id': 4156600,\n",
       " 'org_desc': '<div class=\"aboutMeMain aboutMeMainNormalWidth lfloat\" style=\"float: left; width: 430px; color: #333333; font-family: \\'lucida grande\\', tahoma, verdana, arial, sans-serif; font-size: 11px; line-height: 14px;\">\\r\\n<div id=\"pagelet_about\" data-referrer=\"pagelet_about\">\\r\\n<div class=\"mbl\" style=\"margin-bottom: 20px;\">\\r\\n<div class=\"mhl\" style=\"margin-left: 20px; margin-right: 20px;\">\\r\\n<div id=\"description\" style=\"font-size: 13px; color: #666666; font-family: Helvetica, \\'Helvetica Neue\\', Arial, sans-serif; line-height: 19px;\"><a title=\"Little Hearts Medical\" href=\"http://www.littleheartsmedical.org\">Little Hearts Medical</a> provides free cardiac care to orphans and poor children in China. Together with our Partners, Little Hearts Medical teams offer surgical and interventional heart cath care for some of China\\'s neediest children.<span style=\"color: #333333; font-family: \\'lucida grande\\', tahoma, verdana, arial, sans-serif; font-size: 11px; line-height: 14px;\">&nbsp;</span></div>\\r\\n</div>\\r\\n</div>\\r\\n</div>\\r\\n</div>',\n",
       " 'org_facebook': 19.0,\n",
       " 'org_name': 'Little Hearts Medical',\n",
       " 'org_twitter': 15.0,\n",
       " 'payee_name': 'HCC / Little Hearts',\n",
       " 'payout_type': 'CHECK',\n",
       " 'previous_payouts': [],\n",
       " 'sale_duration': 33.0,\n",
       " 'show_map': 1,\n",
       " 'ticket_types': [{'event_id': 4156600,\n",
       "   'cost': 36.81,\n",
       "   'availability': 1,\n",
       "   'quantity_total': 152},\n",
       "  {'event_id': 4156600, 'cost': 0.0, 'availability': 1, 'quantity_total': 0},\n",
       "  {'event_id': 4156600,\n",
       "   'cost': 475.05,\n",
       "   'availability': 1,\n",
       "   'quantity_total': 6}],\n",
       " 'user_age': 0,\n",
       " 'user_created': 1345468566,\n",
       " 'user_type': 3,\n",
       " 'venue_address': '11731 SE Stevens Rd',\n",
       " 'venue_country': 'US',\n",
       " 'venue_latitude': 45.4374677,\n",
       " 'venue_longitude': -122.5651962,\n",
       " 'venue_name': 'New Hope Community Church Connection Center',\n",
       " 'venue_state': 'OR'}"
      ]
     },
     "execution_count": 52,
     "metadata": {},
     "output_type": "execute_result"
    }
   ],
   "source": [
    "# if you want it formatted as a dictionary\n",
    "\n",
    "current_event=event_generator.event()\n",
    "json.loads(current_event)"
   ]
  },
  {
   "cell_type": "code",
   "execution_count": null,
   "metadata": {},
   "outputs": [],
   "source": []
  },
  {
   "cell_type": "code",
   "execution_count": null,
   "metadata": {},
   "outputs": [],
   "source": []
  }
 ],
 "metadata": {
  "kernelspec": {
   "display_name": "Python 3",
   "language": "python",
   "name": "python3"
  },
  "language_info": {
   "codemirror_mode": {
    "name": "ipython",
    "version": 3
   },
   "file_extension": ".py",
   "mimetype": "text/x-python",
   "name": "python",
   "nbconvert_exporter": "python",
   "pygments_lexer": "ipython3",
   "version": "3.7.6"
  }
 },
 "nbformat": 4,
 "nbformat_minor": 4
}
